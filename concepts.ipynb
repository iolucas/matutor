{
 "cells": [
  {
   "cell_type": "markdown",
   "metadata": {},
   "source": [
    "# Matutor\n",
    "A math proof tutor"
   ]
  },
  {
   "cell_type": "markdown",
   "metadata": {},
   "source": [
    "Lets create here an abstract version of the representation of a proof tree that could be used for feedback generation.\n",
    "We may use the concept of partial proof tree presented by Holophrasm"
   ]
  },
  {
   "cell_type": "code",
   "execution_count": 6,
   "metadata": {},
   "outputs": [],
   "source": [
    "class Expression:\n",
    "    def __init__(self):\n",
    "        self.theorem_candidates = [] #Candidate theorems to generate this expression\n",
    "\n",
    "class Theorem:\n",
    "    def __init__(self, name, n_hypotheses):\n",
    "        self.name\n",
    "        self.n_hypotheses = n_hypotheses\n",
    "        \n",
    "\n",
    "class Proposition(Theorem):\n",
    "    pass\n",
    "\n",
    "class Axiom(Theorem):\n",
    "    def __init__(self, name):\n",
    "        super().__init__(name, 0)\n",
    "\n"
   ]
  },
  {
   "cell_type": "code",
   "execution_count": 4,
   "metadata": {},
   "outputs": [],
   "source": [
    "\n",
    "        \n",
    "class Axiom(Theorem):\n",
    "    def __init__(self, name):\n",
    "        super().__init__(name, 0)\n",
    "        "
   ]
  },
  {
   "cell_type": "code",
   "execution_count": null,
   "metadata": {},
   "outputs": [],
   "source": [
    "class Proof:\n",
    "    def __init__(self):\n",
    "        "
   ]
  }
 ],
 "metadata": {
  "kernelspec": {
   "display_name": "Python 3",
   "language": "python",
   "name": "python3"
  },
  "language_info": {
   "codemirror_mode": {
    "name": "ipython",
    "version": 3
   },
   "file_extension": ".py",
   "mimetype": "text/x-python",
   "name": "python",
   "nbconvert_exporter": "python",
   "pygments_lexer": "ipython3",
   "version": "3.8.5"
  }
 },
 "nbformat": 4,
 "nbformat_minor": 4
}
